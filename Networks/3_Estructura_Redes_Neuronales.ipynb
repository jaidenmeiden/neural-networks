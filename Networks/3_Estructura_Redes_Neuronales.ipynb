{
 "cells": [
  {
   "cell_type": "markdown",
   "metadata": {
    "id": "7iFOX_Y3igEV"
   },
   "source": [
    "![texto alternativo](https://drive.google.com/uc?id=1_ZoJOp39dxsRTVndJP1_7jdY7oGi8sSu) \n",
    "\n",
    "<h1><center>Redes Neuronales con Keras y Scikit</center></h1>\n",
    "\n",
    "\n",
    "<center><i>Estructura de Redes Neuronales</i></center>"
   ]
  },
  {
   "cell_type": "markdown",
   "metadata": {
    "id": "ARGQZBuPwJoD"
   },
   "source": [
    "# <h1>Contenido</h1>\n",
    "\n",
    "<div class=\"alert alert-block alert-warning\" style=\"margin-top: 20px\">\n",
    "    <ol>\n",
    "        <li><a href=\"#perceptron\">Perceptrón</a></li>          \n",
    "        <li><a href=\"#iris\">Dataset IRIS</a></li>\n",
    "        <li><a href=\"#mlp\">Multi Layer Perceptron (MLP)</a></li>\n",
    "        <li><a href=\"#backward\">Backward Propagation</a></li>\n",
    "    </ol>\n",
    "</div>\n",
    "<br>\n",
    "<hr>"
   ]
  },
  {
   "cell_type": "markdown",
   "metadata": {
    "id": "_VfqD089-WuQ"
   },
   "source": [
    "# <h1 id=\"perceptron\">Perceptrón</h1>\n",
    "\n",
    "Representación más simple de una neurona, su salida es de característica binaria (1, 0) y depende de una combinación lineal de las señales de entrada.\n",
    "\n",
    "![Perceptrón](../assets/perceptron.png)"
   ]
  },
  {
   "cell_type": "markdown",
   "metadata": {
    "id": "iRC6JT-P_l6Y"
   },
   "source": [
    "# <h1 id=\"iris\">Dataset IRIS</h1>\n",
    "\n",
    "El Famoso set de datos [IRIS](https://scikit-learn.org/stable/modules/generated/sklearn.datasets.load_iris.html) contiene información de 3 diferentes especies (target):\n",
    "\n",
    "* Iris-Setosa (0)\n",
    "* Iris-Versicolor (1)\n",
    "* Iris-Virginica (2)\n",
    "\n",
    "El dataset contiene 150 muestras (50 por cada especie) y 4 características:\n",
    "\n",
    "* Longitud del sepalo (cm)\n",
    "* Ancho del sepalo (cm)\n",
    "* Longitud del petalo (cm)\n",
    "* Ancho del petalo (cm)\n",
    "\n",
    "![IRIS](../assets/iris-machinelearning.png)"
   ]
  },
  {
   "cell_type": "code",
   "execution_count": 6,
   "metadata": {
    "id": "VLkXmSMOB7De"
   },
   "outputs": [],
   "source": [
    "import numpy as np\n",
    "import matplotlib.pyplot as plt\n",
    "%matplotlib inline\n",
    "from sklearn.datasets import load_iris\n",
    "from sklearn.linear_model import Perceptron"
   ]
  },
  {
   "cell_type": "code",
   "execution_count": 7,
   "metadata": {},
   "outputs": [],
   "source": [
    "#Cargamos el dataset Iris\n",
    "iris = load_iris()"
   ]
  },
  {
   "cell_type": "code",
   "execution_count": 8,
   "metadata": {},
   "outputs": [
    {
     "data": {
      "text/plain": [
       "array([0, 0, 0, 0, 0, 0, 0, 0, 0, 0, 0, 0, 0, 0, 0, 0, 0, 0, 0, 0, 0, 0,\n",
       "       0, 0, 0, 0, 0, 0, 0, 0, 0, 0, 0, 0, 0, 0, 0, 0, 0, 0, 0, 0, 0, 0,\n",
       "       0, 0, 0, 0, 0, 0, 1, 1, 1, 1, 1, 1, 1, 1, 1, 1, 1, 1, 1, 1, 1, 1,\n",
       "       1, 1, 1, 1, 1, 1, 1, 1, 1, 1, 1, 1, 1, 1, 1, 1, 1, 1, 1, 1, 1, 1,\n",
       "       1, 1, 1, 1, 1, 1, 1, 1, 1, 1, 1, 1, 2, 2, 2, 2, 2, 2, 2, 2, 2, 2,\n",
       "       2, 2, 2, 2, 2, 2, 2, 2, 2, 2, 2, 2, 2, 2, 2, 2, 2, 2, 2, 2, 2, 2,\n",
       "       2, 2, 2, 2, 2, 2, 2, 2, 2, 2, 2, 2, 2, 2, 2, 2, 2, 2])"
      ]
     },
     "execution_count": 8,
     "metadata": {},
     "output_type": "execute_result"
    }
   ],
   "source": [
    "#Exploramos el dataset\n",
    "#Se trae target, que muestra a que iris pertenece cada una de las muestras\n",
    "#Donde 0 es Setosa, 1 es Versicolor y 2 es Virginica\n",
    "iris.target"
   ]
  },
  {
   "cell_type": "code",
   "execution_count": 10,
   "metadata": {},
   "outputs": [
    {
     "data": {
      "text/plain": [
       "array([[5.1, 3.5, 1.4, 0.2],\n",
       "       [4.9, 3. , 1.4, 0.2],\n",
       "       [4.7, 3.2, 1.3, 0.2],\n",
       "       [4.6, 3.1, 1.5, 0.2],\n",
       "       [5. , 3.6, 1.4, 0.2]])"
      ]
     },
     "execution_count": 10,
     "metadata": {},
     "output_type": "execute_result"
    }
   ],
   "source": [
    "# Traemos solo 5 registros de target que pertencen a la iris setosa\n",
    "# Cada posición muestra: Longitud del sepalo (cm), Ancho del sepalo (cm), Longitud del petalo (cm) y Ancho del petalo (cm)\n",
    "iris.data[:5,:]"
   ]
  },
  {
   "cell_type": "code",
   "execution_count": 12,
   "metadata": {
    "pycharm": {
     "name": "#%%\n"
    }
   },
   "outputs": [
    {
     "data": {
      "image/png": "[encoded data removed]",
      "text/plain": [
       "<Figure size 936x432 with 1 Axes>"
      ]
     },
     "metadata": {
      "needs_background": "light"
     },
     "output_type": "display_data"
    }
   ],
   "source": [
    "# Traemos solo la Longitud del petalo (Tercera columna) y Ancho del petalo (Cuarta columna)\n",
    "data = iris.data[:,(2,3)]\n",
    "# Traemos todos los datos del target\n",
    "labels = iris.target\n",
    "\n",
    "# Graficamos\n",
    "plt.figure(figsize=(13,6))\n",
    "# Diagrama de dispersión, graficando las especies\n",
    "# Cada especie tiene un color\n",
    "plt.scatter(data[:, 0], data[:, 1], c=labels, cmap=plt.cm.Set1, edgecolor='face')\n",
    "plt.xlabel('Longitud pétalo (cm)')\n",
    "plt.ylabel('Ancho pétalo (cm)')\n",
    "plt.show() "
   ]
  },
  {
   "cell_type": "code",
   "execution_count": null,
   "metadata": {},
   "outputs": [],
   "source": [
    "# Hacemos que el perceptrón intente pronosticar si ciertas muestras pertenecen o no a una especie en particular\n",
    "y = (iris.target == 2)"
   ]
  },
  {
   "cell_type": "markdown",
   "metadata": {
    "id": "qXqyslIFeCGZ"
   },
   "source": [
    "El Perceptrón permite implementar clasificadores binarios muy simples, sin embargo a la hora de enfrentar problemas más complejos como la identificación de patrones se recurre a combinar múltiples perceptrones."
   ]
  },
  {
   "cell_type": "markdown",
   "metadata": {
    "id": "X9Nlfrn5w-jC"
   },
   "source": [
    "## Algoritmo Backward propagation\n",
    "\n",
    "* Se procesa un mini-lote de información a la vez. Cada paso de la información por la red se denomina época. \n",
    "*  Cada mini-batch de información es pasado por la capa de entrada la cual lo envía a la primera capa oculta. \n",
    "*  Luego se procesa la salida de todas las neuronas en esta capa (por cada muestra en el batch) \n",
    "*  El resultado se pasa a la siguiente capa y así sucesivamente hasta la capa de salida. Hasta ahora el proceso es el mismo que forward pass, todos los resultados intermedios son almacenados hasta que son necesitados por el paso de backward.\n",
    "*  Enseguida el algoritmo mide el error en la salida mediante funciones de pérdidas y retorna la medida del error.\n",
    "*  Luego se calcula la contribución en el error de conexión correspondiente con la capa anterior aplicando la regla de la cadena, fundamental en el cálculo. Este proceso se reitera hasta la capa de entrada.\n",
    "*  En efecto el algoritmo propaga el gradiente del error a todos los pesos correspondientes de las conexiones en la red.\n",
    "*  Finalmente se ejecuta un gradiente descendente para ajustar todos los pesos sinápticos en la red empleando los gradientes de error.\n"
   ]
  },
  {
   "cell_type": "markdown",
   "metadata": {
    "id": "okn48pX5531G"
   },
   "source": [
    "**Happy Coding!**"
   ]
  }
 ],
 "metadata": {
  "colab": {
   "name": "3_Estructura_Redes_Neuronales.ipynb",
   "provenance": []
  },
  "kernelspec": {
   "display_name": "Python 3",
   "language": "python",
   "name": "python3"
  },
  "language_info": {
   "codemirror_mode": {
    "name": "ipython",
    "version": 3
   },
   "file_extension": ".py",
   "mimetype": "text/x-python",
   "name": "python",
   "nbconvert_exporter": "python",
   "pygments_lexer": "ipython3",
   "version": "3.7.6"
  }
 },
 "nbformat": 4,
 "nbformat_minor": 1
}